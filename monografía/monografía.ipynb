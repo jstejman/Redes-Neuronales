{
 "cells": [
  {
   "cell_type": "markdown",
   "metadata": {},
   "source": [
    "# Monografía Final\n",
    "## Redes Neuronales - FIUBA\n",
    "### Alumno: Julián Stejman"
   ]
  },
  {
   "cell_type": "markdown",
   "metadata": {},
   "source": [
    "En este documento se utilizará una red neuronal entrenada con un algoritmo de aprendizaje por refuerzo que aprendiese a jugar niveles de Super Mario Bros para la NES. Para ello, se utilizará el entorno de OpenAI Gym, que simula el juego de Super Mario Bros."
   ]
  },
  {
   "cell_type": "code",
   "execution_count": 10,
   "metadata": {
    "execution": {
     "iopub.execute_input": "2025-01-28T02:52:48.222057Z",
     "iopub.status.busy": "2025-01-28T02:52:48.221769Z",
     "iopub.status.idle": "2025-01-28T02:52:51.477368Z",
     "shell.execute_reply": "2025-01-28T02:52:51.476500Z",
     "shell.execute_reply.started": "2025-01-28T02:52:48.222036Z"
    },
    "trusted": true
   },
   "outputs": [
    {
     "name": "stdout",
     "output_type": "stream",
     "text": [
      "Requirement already satisfied: gym_super_mario_bros in /home/julian/.pyenv/versions/3.8.7/envs/Monografia/lib/python3.8/site-packages (7.4.0)\n",
      "Requirement already satisfied: nes-py>=8.1.4 in /home/julian/.pyenv/versions/3.8.7/envs/Monografia/lib/python3.8/site-packages (from gym_super_mario_bros) (8.2.1)\n",
      "Requirement already satisfied: gym>=0.17.2 in /home/julian/.pyenv/versions/3.8.7/envs/Monografia/lib/python3.8/site-packages (from nes-py>=8.1.4->gym_super_mario_bros) (0.23.1)\n",
      "Requirement already satisfied: numpy>=1.18.5 in /home/julian/.pyenv/versions/3.8.7/envs/Monografia/lib/python3.8/site-packages (from nes-py>=8.1.4->gym_super_mario_bros) (1.24.4)\n",
      "Requirement already satisfied: pyglet<=1.5.21,>=1.4.0 in /home/julian/.pyenv/versions/3.8.7/envs/Monografia/lib/python3.8/site-packages (from nes-py>=8.1.4->gym_super_mario_bros) (1.5.21)\n",
      "Requirement already satisfied: tqdm>=4.48.2 in /home/julian/.pyenv/versions/3.8.7/envs/Monografia/lib/python3.8/site-packages (from nes-py>=8.1.4->gym_super_mario_bros) (4.67.1)\n",
      "Requirement already satisfied: cloudpickle>=1.2.0 in /home/julian/.pyenv/versions/3.8.7/envs/Monografia/lib/python3.8/site-packages (from gym>=0.17.2->nes-py>=8.1.4->gym_super_mario_bros) (3.1.0)\n",
      "Requirement already satisfied: gym-notices>=0.0.4 in /home/julian/.pyenv/versions/3.8.7/envs/Monografia/lib/python3.8/site-packages (from gym>=0.17.2->nes-py>=8.1.4->gym_super_mario_bros) (0.0.8)\n",
      "Requirement already satisfied: importlib-metadata>=4.10.0 in /home/julian/.pyenv/versions/3.8.7/envs/Monografia/lib/python3.8/site-packages (from gym>=0.17.2->nes-py>=8.1.4->gym_super_mario_bros) (8.5.0)\n",
      "Requirement already satisfied: zipp>=3.20 in /home/julian/.pyenv/versions/3.8.7/envs/Monografia/lib/python3.8/site-packages (from importlib-metadata>=4.10.0->gym>=0.17.2->nes-py>=8.1.4->gym_super_mario_bros) (3.20.2)\n",
      "\n",
      "\u001b[1m[\u001b[0m\u001b[34;49mnotice\u001b[0m\u001b[1;39;49m]\u001b[0m\u001b[39;49m A new release of pip is available: \u001b[0m\u001b[31;49m24.3.1\u001b[0m\u001b[39;49m -> \u001b[0m\u001b[32;49m25.0.1\u001b[0m\n",
      "\u001b[1m[\u001b[0m\u001b[34;49mnotice\u001b[0m\u001b[1;39;49m]\u001b[0m\u001b[39;49m To update, run: \u001b[0m\u001b[32;49mpip install --upgrade pip\u001b[0m\n",
      "Note: you may need to restart the kernel to use updated packages.\n"
     ]
    }
   ],
   "source": [
    "%pip install gym_super_mario_bros\n",
    "from nes_py.wrappers import JoypadSpace\n",
    "import gym_super_mario_bros\n",
    "from gym_super_mario_bros.actions import SIMPLE_MOVEMENT\n",
    "import torch\n",
    "import torch.nn as nn"
   ]
  },
  {
   "cell_type": "code",
   "execution_count": 11,
   "metadata": {
    "execution": {
     "iopub.execute_input": "2025-01-28T02:52:51.479001Z",
     "iopub.status.busy": "2025-01-28T02:52:51.478760Z",
     "iopub.status.idle": "2025-01-28T02:52:51.483215Z",
     "shell.execute_reply": "2025-01-28T02:52:51.482386Z",
     "shell.execute_reply.started": "2025-01-28T02:52:51.478980Z"
    },
    "trusted": true
   },
   "outputs": [],
   "source": [
    "from IPython.core.magic import register_cell_magic\n",
    "\n",
    "@register_cell_magic\n",
    "def skip(line, cell):\n",
    "    return"
   ]
  },
  {
   "cell_type": "markdown",
   "metadata": {},
   "source": [
    "Si se eliminara en la siguiente celda la línea que dice %%skip, se podría ver una simulación simple de como funciona el emulador del juego con el entorno. "
   ]
  },
  {
   "cell_type": "code",
   "execution_count": 12,
   "metadata": {
    "execution": {
     "iopub.execute_input": "2025-01-28T02:52:51.484931Z",
     "iopub.status.busy": "2025-01-28T02:52:51.484722Z",
     "iopub.status.idle": "2025-01-28T02:52:51.497341Z",
     "shell.execute_reply": "2025-01-28T02:52:51.496615Z",
     "shell.execute_reply.started": "2025-01-28T02:52:51.484914Z"
    },
    "trusted": true
   },
   "outputs": [],
   "source": [
    "\n",
    "%%skip\n",
    "from nes_py.wrappers import JoypadSpace\n",
    "import gym_super_mario_bros\n",
    "from gym_super_mario_bros.actions import SIMPLE_MOVEMENT\n",
    "env = gym_super_mario_bros.make('SuperMarioBros-v0')\n",
    "env = JoypadSpace(env, SIMPLE_MOVEMENT)\n",
    "\n",
    "done = True\n",
    "for step in range(5000):\n",
    "    if done:\n",
    "        state = env.reset()\n",
    "    state, reward, done, info = env.step(env.action_space.sample())\n",
    "    env.render()\n",
    "\n",
    "env.close()"
   ]
  },
  {
   "cell_type": "markdown",
   "metadata": {},
   "source": [
    "La idea sería armar una red neuronal convolucional para poder interpretar de las imágenes recibidas una posible acción para que tomara el personaje del juego. Esta red luego utilizará un algoritmo de aprendizaje por refuerzo para poder mejorar su desempeño."
   ]
  },
  {
   "cell_type": "markdown",
   "metadata": {},
   "source": [
    "En rigor, la salida no es una acción directamente sino lo que se llaman Q-valores, que le generan un puntaje de calidad a cada acción a tomar. Mientras más alto el puntaje más viable sería la acción en el momento."
   ]
  },
  {
   "cell_type": "code",
   "execution_count": 13,
   "metadata": {
    "execution": {
     "iopub.execute_input": "2025-01-28T02:52:51.499110Z",
     "iopub.status.busy": "2025-01-28T02:52:51.498858Z",
     "iopub.status.idle": "2025-01-28T02:52:51.512172Z",
     "shell.execute_reply": "2025-01-28T02:52:51.511526Z",
     "shell.execute_reply.started": "2025-01-28T02:52:51.499089Z"
    },
    "trusted": true
   },
   "outputs": [],
   "source": [
    "class DQNetwork(nn.Module):\n",
    "    def __init__(self,input_shape,num_actions):\n",
    "        super().__init__()\n",
    "\n",
    "        #Capas convolucionales\n",
    "        self.image_processing = nn.Sequential(\n",
    "            nn.Conv2d(input_shape[0], 32, kernel_size=8, stride=4),\n",
    "            nn.ReLU(),\n",
    "            nn.Conv2d(32, 64, kernel_size=4, stride = 2),\n",
    "            nn.ReLU(),\n",
    "            nn.Conv2d(64, 64, kernel_size=3, stride =1),\n",
    "            nn.ReLU()\n",
    "        )\n",
    "        # Capas lineales para predicción de Q-valores\n",
    "        self.fc = nn.Sequential(\n",
    "            nn.Linear(self._image_processing_output_size(input_shape),512),\n",
    "            nn.ReLU(),\n",
    "            nn.Linear(512,num_actions)\n",
    "        )\n",
    "        # función que genera el tamaño de salida para la etapa lineal \n",
    "    def _image_processing_output_size(self, input_shape):\n",
    "        with torch.no_grad():\n",
    "            dummy_input = torch.zeros(1, *input_shape)\n",
    "            output=self.image_processing(dummy_input)\n",
    "            return int(torch.flatten(output, start_dim = 1).size(1))\n",
    "        \n",
    "    def forward(self,x):\n",
    "        x = self.image_processing(x)\n",
    "        x = x.view(x.size(0), -1)\n",
    "        x = self.fc(x)\n",
    "        return x"
   ]
  },
  {
   "cell_type": "code",
   "execution_count": 14,
   "metadata": {
    "execution": {
     "iopub.execute_input": "2025-01-28T02:52:51.513248Z",
     "iopub.status.busy": "2025-01-28T02:52:51.513005Z",
     "iopub.status.idle": "2025-01-28T02:52:51.716752Z",
     "shell.execute_reply": "2025-01-28T02:52:51.716046Z",
     "shell.execute_reply.started": "2025-01-28T02:52:51.513229Z"
    },
    "trusted": true
   },
   "outputs": [
    {
     "name": "stdout",
     "output_type": "stream",
     "text": [
      "tensor([[ 0.0360, -0.0259, -0.0259, -0.0205,  0.0254, -0.0104,  0.0029]],\n",
      "       grad_fn=<AddmmBackward0>)\n"
     ]
    }
   ],
   "source": [
    "frame_stack_count = 4\n",
    "dimensions = 84\n",
    "input_shape = (frame_stack_count,dimensions,dimensions)\n",
    "num_actions = len(SIMPLE_MOVEMENT)\n",
    "\n",
    "test_model = DQNetwork(input_shape, num_actions)\n",
    "dummy_state = torch.zeros(1, *input_shape)\n",
    "output = test_model(dummy_state)\n",
    "print(output)\n"
   ]
  },
  {
   "cell_type": "markdown",
   "metadata": {},
   "source": [
    "Para enviar a la red, se toma la decisión de mandar los colores a blanco y negro,bajarle la resolución a 84x84 que es la que se suele utilizar para este tipo de ensayos, y de devolver en cada estado 4 cuadros. De esta forma la red podrá aprender en cada estado con más información del entorno y menos en definición visual"
   ]
  },
  {
   "cell_type": "code",
   "execution_count": 15,
   "metadata": {
    "execution": {
     "iopub.execute_input": "2025-01-28T02:52:51.717693Z",
     "iopub.status.busy": "2025-01-28T02:52:51.717443Z",
     "iopub.status.idle": "2025-01-28T02:52:52.335396Z",
     "shell.execute_reply": "2025-01-28T02:52:52.334565Z",
     "shell.execute_reply.started": "2025-01-28T02:52:51.717663Z"
    },
    "trusted": true
   },
   "outputs": [
    {
     "name": "stderr",
     "output_type": "stream",
     "text": [
      "/home/julian/.pyenv/versions/Monografia/lib/python3.8/site-packages/gym/envs/registration.py:505: UserWarning: \u001b[33mWARN: The environment SuperMarioBros-v0 is out of date. You should consider upgrading to version `v3` with the environment ID `SuperMarioBros-v3`.\u001b[0m\n",
      "  logger.warn(\n"
     ]
    },
    {
     "data": {
      "image/png": "[encoded data removed]",
      "text/plain": [
       "<Figure size 640x480 with 1 Axes>"
      ]
     },
     "metadata": {},
     "output_type": "display_data"
    }
   ],
   "source": [
    "import gym\n",
    "from gym.wrappers import GrayScaleObservation, FrameStack, ResizeObservation\n",
    "\n",
    "# Create the Super Mario environment\n",
    "env = gym.make('SuperMarioBros-v0')\n",
    "\n",
    "# Apply the wrappers for preprocessing\n",
    "env = GrayScaleObservation(env, keep_dim=True)  # Convert to grayscale (removes color channels)\n",
    "env = ResizeObservation(env, shape=(dimensions,dimensions))     # Resize to 84x84\n",
    "env = FrameStack(env, num_stack=frame_stack_count)               # Stack 4 frames\n",
    "\n",
    "# Reset the environment to start\n",
    "state = env.reset()\n",
    "\n",
    "# Visualize the preprocessed frame (optional)\n",
    "import matplotlib.pyplot as plt\n",
    "plt.imshow(state[0], cmap='gray')  # Show the first frame in the stack\n",
    "plt.show()\n"
   ]
  },
  {
   "cell_type": "markdown",
   "metadata": {},
   "source": [
    "Para poder guardar los resultados de cada estado, se utiliza un replay buffer que simplemente guarda los resultados para ver cómo repercuten las acciones que toma la red."
   ]
  },
  {
   "cell_type": "code",
   "execution_count": 16,
   "metadata": {
    "execution": {
     "iopub.execute_input": "2025-01-28T02:52:52.336528Z",
     "iopub.status.busy": "2025-01-28T02:52:52.336210Z",
     "iopub.status.idle": "2025-01-28T02:52:52.341433Z",
     "shell.execute_reply": "2025-01-28T02:52:52.340560Z",
     "shell.execute_reply.started": "2025-01-28T02:52:52.336497Z"
    },
    "trusted": true
   },
   "outputs": [],
   "source": [
    "import random\n",
    "from collections import deque\n",
    "\n",
    "class ReplayBuffer:\n",
    "    def __init__(self,capacity):\n",
    "        self.buffer = deque(maxlen=capacity)\n",
    "    def push(self,state,action,reward,next_state,done):\n",
    "        self.buffer.append((state,action,reward,next_state,done))\n",
    "    def sample(self,batch_size):\n",
    "        return random.sample(self.buffer,batch_size)\n",
    "    def size(self):\n",
    "        return len(self.buffer)"
   ]
  },
  {
   "cell_type": "markdown",
   "metadata": {},
   "source": [
    "Para entrenar a la red hay que tomar varias consideraciones. \n",
    "Inicialmente se propone un criterio de decisión que se llama epsilon-greedy que lo que hace es ir disminuyendo las opciones elegidas al azar al paso del tiempo. El enfoque de esto es para proponer una solución al asunto de \"explorar vs explotar\" donde un jugador podría maximizar su \"premio\" y no necesariamente buscar un camino más fructífero pero a la vez explorar mucho podría llegar a no maximizar nada. "
   ]
  },
  {
   "cell_type": "markdown",
   "metadata": {},
   "source": [
    "El algoritmo DQN se basa principalmente en maximizar la función de Bellman que tiene la siguiente forma\n",
    "$$Q(s,a) = r + \\gamma \\cdot max_{a'} Q(s', a') $$\n",
    "Donde r son los premios, $\\gamma$ un factor escalar y los pares (s,a) y (s',a') siendo el par de estado-acción actual y futuro."
   ]
  },
  {
   "cell_type": "code",
   "execution_count": null,
   "metadata": {
    "execution": {
     "iopub.execute_input": "2025-01-28T02:52:52.343803Z",
     "iopub.status.busy": "2025-01-28T02:52:52.343596Z",
     "iopub.status.idle": "2025-01-28T02:52:52.357131Z",
     "shell.execute_reply": "2025-01-28T02:52:52.356442Z",
     "shell.execute_reply.started": "2025-01-28T02:52:52.343785Z"
    },
    "trusted": true
   },
   "outputs": [],
   "source": [
    "from torch import optim\n",
    "import numpy as np\n",
    "def trainDQN(env, policy_network, target_network, replay_buffer, num_episodes=10,  # Reduce number of episodes for testing\n",
    "             batch_size=64, gamma=0.99, learning_rate=1e-4, target_update_freq=1000, \n",
    "             epsilon_start=1.0, epsilon_decay=0.999, epsilon_min=0.01,\n",
    "             num_stack=4, width=84, height=84, render=False, device=\"cpu\"):\n",
    "    policy_network.to(device)\n",
    "    target_network.to(device)\n",
    "    optimizer = optim.Adam(policy_network.parameters(), lr=learning_rate)\n",
    "    loss_fn = nn.MSELoss()\n",
    "\n",
    "    epsilon = epsilon_start\n",
    "    steps = 0\n",
    "    total_rewards = []\n",
    "\n",
    "    for episode in range(1, num_episodes + 1):\n",
    "        print(f\"Starting episode {episode}\")\n",
    "        state = env.reset()\n",
    "        state = torch.tensor(np.array(state), dtype=torch.float32).unsqueeze(0).to(device)  # Se agrega una dimensión de batch\n",
    "        episode_reward = 0\n",
    "        done = False\n",
    "\n",
    "        while not done:\n",
    "            # Estrategia ε-greedy \n",
    "            if random.random() < epsilon:\n",
    "                action = env.action_space.sample()  # Explore\n",
    "            else:\n",
    "                with torch.no_grad():\n",
    "                    q_values = policy_network(state.squeeze(-1))\n",
    "                    action = torch.argmax(q_values).item()  # Exploit\n",
    "\n",
    "            # Execute action in environment\n",
    "            next_state, reward, done, info = env.step(action)\n",
    "            next_state = torch.tensor(next_state, dtype=torch.float32).unsqueeze(0).to(device)\n",
    "            episode_reward += reward\n",
    "\n",
    "            # Store transition in replay buffer\n",
    "            replay_buffer.push(state.cpu(), action, reward, next_state.cpu(), done)\n",
    "\n",
    "            # Update state\n",
    "            state = next_state\n",
    "\n",
    "            # Print replay buffer size\n",
    "            #print(f\"Replay buffer size: {replay_buffer.size()}\")\n",
    "            \n",
    "\n",
    "            # Print info to understand why the episode ended\n",
    "            if done:\n",
    "                print(f\"Episode ended: {info}\")\n",
    "                break  # Break out of the loop to start a new episode\n",
    "\n",
    "            # Train the policy network if we have enough samples\n",
    "            if replay_buffer.size() >= batch_size:\n",
    "                #print(\"Training the policy network\")\n",
    "                # Sample a batch of transitions\n",
    "                batch = replay_buffer.sample(batch_size)\n",
    "                states, actions, rewards, next_states, dones = zip(*batch)\n",
    "\n",
    "                # Convert to tensors\n",
    "                states = torch.cat(states).view(batch_size, num_stack, width, height).to(device)\n",
    "                actions = torch.tensor(actions, dtype=torch.int64).unsqueeze(1).to(device)\n",
    "                rewards = torch.tensor(rewards, dtype=torch.float32).unsqueeze(1).to(device)\n",
    "                next_states = torch.cat(next_states).view(batch_size, num_stack, width, height).to(device)\n",
    "                dones = torch.tensor(dones, dtype=torch.float32).unsqueeze(1).to(device)\n",
    "\n",
    "                # Compute current Q-values\n",
    "                q_values = policy_network(states).gather(1, actions)\n",
    "\n",
    "                # Compute target Q-values\n",
    "                with torch.no_grad():\n",
    "                    next_q_values = target_network(next_states).max(1, keepdim=True)[0]\n",
    "                    target_q_values = rewards + gamma * next_q_values * (1 - dones)\n",
    "\n",
    "                # Compute loss\n",
    "                loss = loss_fn(q_values, target_q_values)\n",
    "\n",
    "                # Backpropagation\n",
    "                optimizer.zero_grad()\n",
    "                loss.backward()\n",
    "                optimizer.step()\n",
    "\n",
    "            # Update target network periodically\n",
    "            steps += 1\n",
    "            if steps % target_update_freq == 0:\n",
    "                print(f\"Time: {info['time']}, Lives: {info['life']}\")\n",
    "                print(\"Updating target network\")\n",
    "                target_network.load_state_dict(policy_network.state_dict())\n",
    "\n",
    "        # Decay epsilon\n",
    "        epsilon = max(epsilon_min, epsilon * epsilon_decay)\n",
    "\n",
    "        # Log episode results\n",
    "        total_rewards.append(episode_reward)\n",
    "        print(f\"Episode {episode} finished, Reward: {episode_reward}, Epsilon: {epsilon:.3f}\")\n",
    "\n",
    "    env.close()\n",
    "    return total_rewards"
   ]
  },
  {
   "cell_type": "markdown",
   "metadata": {},
   "source": [
    "Para el algoritmo de entrenamiento DQN se utilizan 2 modelos en simultáneo, una red llamada la red de políticas, que es la que activamente está aprendiendo y se utiliza para seleccionar acciones durante el juego, y la red objetivo, que recibe menos actualizaciones pero es más estable. Esta última además se utiliza para el cálculo de Q-valores. "
   ]
  },
  {
   "cell_type": "code",
   "execution_count": null,
   "metadata": {},
   "outputs": [],
   "source": [
    "import pickle\n",
    "# Guardar el estado local para continuar el entrenamiento\n",
    "def save_training_state(filename, policy_network, target_network, buffer, total_rewards):\n",
    "    state = {\n",
    "        'policy_network': policy_network.state_dict(),\n",
    "        'target_network': target_network.state_dict(),\n",
    "        'replay_buffer': buffer.buffer,\n",
    "        'total_rewards': total_rewards\n",
    "    }\n",
    "    with open(filename, 'wb') as f:\n",
    "        pickle.dump(state, f)\n",
    "\n",
    "def load_training_state(filename, policy_network, target_network, buffer):\n",
    "    with open(filename, 'rb') as f:\n",
    "        state = pickle.load(f)\n",
    "    policy_network.load_state_dict(state['policy_network'])\n",
    "    target_network.load_state_dict(state['target_network'])\n",
    "    buffer.buffer = state['replay_buffer']\n",
    "    return state['total_rewards']\n",
    "    \n",
    "\n",
    "# Ejemplo de uso:\n",
    "# save_training_state('mario_dqn_state.pkl', policy_network, target_network, buffer, total_rewards)\n",
    "# total_rewards = load_training_state('mario_dqn_state.pkl', policy_network, target_network, buffer)"
   ]
  },
  {
   "cell_type": "code",
   "execution_count": null,
   "metadata": {
    "execution": {
     "iopub.execute_input": "2025-01-28T02:52:52.358439Z",
     "iopub.status.busy": "2025-01-28T02:52:52.358089Z"
    },
    "trusted": true
   },
   "outputs": [
    {
     "name": "stdout",
     "output_type": "stream",
     "text": [
      "cpu\n",
      "Starting episode 1\n",
      "Time: 358, Lives: 1\n",
      "Updating target network\n",
      "Time: 308, Lives: 1\n",
      "Updating target network\n"
     ]
    }
   ],
   "source": [
    "import numpy as np\n",
    "from nes_py.wrappers import JoypadSpace\n",
    "import gym_super_mario_bros\n",
    "from gym_super_mario_bros.actions import RIGHT_ONLY\n",
    "import os\n",
    "\n",
    "# Se genera el entorno de juego \n",
    "width = 84\n",
    "height = 84\n",
    "num_stack = 4\n",
    "env = gym_super_mario_bros.make('SuperMarioBros-v0')\n",
    "env = JoypadSpace(env, RIGHT_ONLY)\n",
    "env = GrayScaleObservation(env, keep_dim=True) \n",
    "env = ResizeObservation(env, shape=(width,height))     \n",
    "env = FrameStack(env, num_stack)   \n",
    "\n",
    "# Inicializo redes\n",
    "input_shape = (num_stack, width, height)\n",
    "num_actions = env.action_space.n\n",
    "policy_network = DQNetwork(input_shape, num_actions)\n",
    "target_network = DQNetwork(input_shape, num_actions)\n",
    "target_network.load_state_dict(policy_network.state_dict())\n",
    "target_network.eval()\n",
    "\n",
    "# Creo el buffer\n",
    "buffer = ReplayBuffer(10000)\n",
    "device = torch.device(\"cuda\" if torch.cuda.is_available() else \"cpu\")\n",
    "print(device)\n",
    "if os.path.exists('mario_dqn_state.pkl'):\n",
    "    total_rewards = load_training_state('mario_dqn_state.pkl', policy_network, target_network, buffer)\n",
    "else:\n",
    "    total_rewards = []\n",
    "more_rewards = trainDQN(\n",
    "        env=env,\n",
    "        policy_network=policy_network,\n",
    "        target_network=target_network,\n",
    "        replay_buffer=buffer,\n",
    "        width=width,\n",
    "        height=height,\n",
    "        num_stack=num_stack,\n",
    "        num_episodes=1,  # Number of additional episodes to train\n",
    "        render=False,\n",
    "        device=device\n",
    "    )\n",
    "save_training_state('mario_dqn_state.pkl', policy_network, target_network, buffer, total_rewards + more_rewards)\n",
    "# Ejemplo de uso:\n",
    "# total_rewards = load_training_state('mario_dqn_state.pkl', policy_network, target_network, buffer)"
   ]
  },
  {
   "cell_type": "code",
   "execution_count": null,
   "metadata": {
    "trusted": true
   },
   "outputs": [],
   "source": [
    "%%skip \n",
    "state = torch.tensor(env.reset(), dtype=torch.float32).squeeze(-1).unsqueeze(0)\n",
    "state.shape\n",
    "policy_network(state)"
   ]
  },
  {
   "cell_type": "markdown",
   "metadata": {},
   "source": []
  }
 ],
 "metadata": {
  "kaggle": {
   "accelerator": "nvidiaTeslaT4",
   "dataSources": [],
   "dockerImageVersionId": 30840,
   "isGpuEnabled": true,
   "isInternetEnabled": true,
   "language": "python",
   "sourceType": "notebook"
  },
  "kernelspec": {
   "display_name": "Monografia",
   "language": "python",
   "name": "python3"
  },
  "language_info": {
   "codemirror_mode": {
    "name": "ipython",
    "version": 3
   },
   "file_extension": ".py",
   "mimetype": "text/x-python",
   "name": "python",
   "nbconvert_exporter": "python",
   "pygments_lexer": "ipython3",
   "version": "3.8.7"
  }
 },
 "nbformat": 4,
 "nbformat_minor": 4
}
